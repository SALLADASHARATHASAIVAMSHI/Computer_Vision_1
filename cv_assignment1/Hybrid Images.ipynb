{
 "cells": [
  {
   "cell_type": "code",
   "execution_count": 1,
   "metadata": {},
   "outputs": [],
   "source": [
    "import numpy as np\n",
    "import pandas as pd\n",
    "import cv2\n",
    "import matplotlib.pyplot as plt"
   ]
  },
  {
   "cell_type": "code",
   "execution_count": 2,
   "metadata": {},
   "outputs": [],
   "source": [
    "def fourierTransform(image):\n",
    "    M,N=image.shape\n",
    "    dft=np.zeros((M,N),dtype=np.complex128)\n",
    "    a=np.array([[i] for i in range(image.shape[0])]).T/image.shape[0]\n",
    "    b=np.array([[i] for i in range(image.shape[1])]).T/image.shape[1]\n",
    "    c=np.ones(image.shape)\n",
    "    a,b=a.T*c,c*b\n",
    "    for i in range(M):\n",
    "        #print(i)\n",
    "        for j in range(N):\n",
    "            exp=np.power(np.e,-2j*np.pi*(i*a+j*b))\n",
    "            dft[i][j]=np.sum(image*exp)\n",
    "    return dft\n",
    "            \n",
    "    \n",
    "            "
   ]
  },
  {
   "cell_type": "code",
   "execution_count": 3,
   "metadata": {},
   "outputs": [],
   "source": [
    "def inverseFourierTransform(image,size1,size2):\n",
    "    M,N=size1,size2\n",
    "    dft=np.zeros((size1,size2),dtype=np.complex128)\n",
    "    a=np.array([[i] for i in range(M)]).T/M\n",
    "    b=np.array([[i] for i in range(N)]).T/N\n",
    "    c=np.ones((M,N))\n",
    "    a,b=a.T*c,c*b\n",
    "    for i in range(size1):\n",
    "        #print(i)\n",
    "        for j in range(size2):\n",
    "            exp=np.power(np.e,2j*np.pi*(i*a+j*b))\n",
    "            dft[i][j]=np.sum(image*exp)/(size1*size2)\n",
    "    return dft\n",
    "            "
   ]
  },
  {
   "cell_type": "code",
   "execution_count": 4,
   "metadata": {},
   "outputs": [],
   "source": [
    "def rgbToGray(image):\n",
    "    output=np.zeros(image.shape[:-1])\n",
    "    for i in range(image.shape[0]):\n",
    "        for j in range(image.shape[1]):\n",
    "            output[i][j]=image[i][j][0]*0.30 + image[i][j][1]*0.59 + image[i][j][0]*0.11\n",
    "    return np.rint(output).astype(np.uint8)"
   ]
  },
  {
   "cell_type": "code",
   "execution_count": 5,
   "metadata": {},
   "outputs": [],
   "source": [
    "def hybridImages(image1,image2,alpha,beta):\n",
    "    image1=cv2.resize(image1,(100,100))\n",
    "    image2=cv2.resize(image2,(100,100))\n",
    "    r1=rgbToGray(image1)\n",
    "    r2=rgbToGray(image2)\n",
    "    print(1)\n",
    "    rdft1=fourierTransform(r1)\n",
    "    print(2)\n",
    "    rdft2=fourierTransform(r2)\n",
    "    i=np.arange(100).reshape((100,1))\n",
    "    j=np.arange(100).reshape((1,100))\n",
    "    c=np.ones((100,100))\n",
    "    highind=np.sqrt((c*j)**2+(c*i)**2)>alpha\n",
    "    lowind=np.sqrt((c*j)**2+(c*i)**2)<beta\n",
    "    rdft1[highind]=0\n",
    "    rdft2[lowind]=0\n",
    "    print(3)\n",
    "    return np.absolute(inverseFourierTransform(rdft1+rdft2,100,100))\n",
    "    "
   ]
  },
  {
   "cell_type": "code",
   "execution_count": 8,
   "metadata": {},
   "outputs": [],
   "source": [
    "iamge1=cv2.resize(cv2.imread('./image1.jpg'),(100,100))[:,:,::-1]\n",
    "image2=cv2.resize(cv2.imread('./image2.jpg'),(100,100))[:,:,::-1]"
   ]
  },
  {
   "cell_type": "code",
   "execution_count": 23,
   "metadata": {},
   "outputs": [
    {
     "name": "stdout",
     "output_type": "stream",
     "text": [
      "1\n",
      "2\n",
      "3\n"
     ]
    },
    {
     "data": {
      "text/plain": [
       "<matplotlib.image.AxesImage at 0x1905c981c18>"
      ]
     },
     "execution_count": 23,
     "metadata": {},
     "output_type": "execute_result"
    },
    {
     "data": {
      "image/png": "[encoded data removed]",
      "text/plain": [
       "<Figure size 432x288 with 1 Axes>"
      ]
     },
     "metadata": {},
     "output_type": "display_data"
    }
   ],
   "source": [
    "plt.imshow(hybridImages(image2,image1,90,90),cmap='gray')"
   ]
  },
  {
   "cell_type": "code",
   "execution_count": null,
   "metadata": {},
   "outputs": [],
   "source": []
  }
 ],
 "metadata": {
  "kernelspec": {
   "display_name": "Python 3",
   "language": "python",
   "name": "python3"
  },
  "language_info": {
   "codemirror_mode": {
    "name": "ipython",
    "version": 3
   },
   "file_extension": ".py",
   "mimetype": "text/x-python",
   "name": "python",
   "nbconvert_exporter": "python",
   "pygments_lexer": "ipython3",
   "version": "3.6.0"
  }
 },
 "nbformat": 4,
 "nbformat_minor": 2
}
